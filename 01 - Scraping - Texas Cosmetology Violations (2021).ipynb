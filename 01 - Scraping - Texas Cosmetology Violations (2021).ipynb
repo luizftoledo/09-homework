{
 "cells": [
  {
   "cell_type": "markdown",
   "metadata": {},
   "source": [
    "# Texas Cosmetologist Violations\n",
    "\n",
    "Texas has a system for [searching for license violations](https://www.tdlr.texas.gov/cimsfo/fosearch.asp). You're going to search for cosmetologists!"
   ]
  },
  {
   "cell_type": "code",
   "execution_count": null,
   "metadata": {},
   "outputs": [],
   "source": []
  },
  {
   "cell_type": "code",
   "execution_count": null,
   "metadata": {},
   "outputs": [],
   "source": []
  },
  {
   "cell_type": "code",
   "execution_count": 442,
   "metadata": {
    "scrolled": true
   },
   "outputs": [],
   "source": [
    "import pandas as pd\n",
    "import time\n",
    "from selenium import webdriver\n",
    "from selenium.webdriver.common.keys import Keys\n",
    "from selenium.webdriver.common.by import By\n",
    "from selenium.webdriver.support import expected_conditions as EC\n",
    "from selenium.webdriver.support.ui import Select\n",
    "from webdriver_manager.chrome import ChromeDriverManager\n",
    "from selenium.webdriver.support.ui import WebDriverWait\n",
    "from bs4 import BeautifulSoup"
   ]
  },
  {
   "cell_type": "code",
   "execution_count": 443,
   "metadata": {},
   "outputs": [
    {
     "name": "stderr",
     "output_type": "stream",
     "text": [
      "\n",
      "\n",
      "====== WebDriver manager ======\n",
      "Current google-chrome version is 96.0.4664\n",
      "Get LATEST chromedriver version for 96.0.4664 google-chrome\n",
      "Driver [/Users/luizfernandotoledo/.wdm/drivers/chromedriver/mac64/96.0.4664.45/chromedriver] found in cache\n",
      "/var/folders/dj/5c61qy0d0b9gcj0yrt1jd2300000gn/T/ipykernel_45300/1503906442.py:1: DeprecationWarning: executable_path has been deprecated, please pass in a Service object\n",
      "  driver = webdriver.Chrome(ChromeDriverManager().install())\n"
     ]
    }
   ],
   "source": [
    "driver = webdriver.Chrome(ChromeDriverManager().install())"
   ]
  },
  {
   "cell_type": "markdown",
   "metadata": {
    "collapsed": true
   },
   "source": [
    "## Starting your search\n",
    "\n",
    "Starting from [here](https://www.tdlr.texas.gov/cimsfo/fosearch.asp), search for cosmetologist violations for people with the last name **Nguyen**."
   ]
  },
  {
   "cell_type": "code",
   "execution_count": 444,
   "metadata": {},
   "outputs": [],
   "source": [
    "driver.get(\"https://www.tdlr.texas.gov/cimsfo/fosearch.asp\")"
   ]
  },
  {
   "cell_type": "code",
   "execution_count": 445,
   "metadata": {},
   "outputs": [],
   "source": [
    "driver.find_element(By.ID, 'pht_lnm').send_keys('Nguyen')"
   ]
  },
  {
   "cell_type": "code",
   "execution_count": 446,
   "metadata": {},
   "outputs": [],
   "source": [
    "driver.find_element(By.XPATH, \"/html/body/div[1]/div/div[2]/div/div/section/div/div/table/tbody/tr/td/form/table/tbody/tr[18]/td/input[1]\").click()"
   ]
  },
  {
   "cell_type": "code",
   "execution_count": null,
   "metadata": {},
   "outputs": [],
   "source": []
  },
  {
   "cell_type": "markdown",
   "metadata": {},
   "source": [
    "## Scraping\n",
    "\n",
    "Once you are on the results page, do this. **I step you through things bit by bit, so it's going to be a little different than we did in class.** Also, no `pd.read_html` allowed because this isn't actual tabular data!\n",
    "\n",
    "> You can use either Selenium by itself or Selenium+BeautifulSoup to scrape the results page. The choice is up to you!"
   ]
  },
  {
   "cell_type": "markdown",
   "metadata": {},
   "source": [
    "### Loop through each result and print the entire row\n",
    "\n",
    "Okay wait, maybe not, i's a heck of a lot of rows. Use `[:10]` to only do the first ten! For example, if you saved the table rows into `results` you might do something like this:\n",
    "\n",
    "```python\n",
    "for result in results[:10]:\n",
    "    print(result)\n",
    "```\n",
    "\n",
    "Although you'd want to print out the text from the row (I give example output below).\n",
    "\n",
    "> *Tip: If you're using Selenium, `By.TAG_NAME` is used if you don't have a class or ID. If you're using BeautifulSoup, just do your normal thing.*"
   ]
  },
  {
   "cell_type": "code",
   "execution_count": 447,
   "metadata": {},
   "outputs": [
    {
     "name": "stdout",
     "output_type": "stream",
     "text": [
      "Name and Location Order Basis for Order\n",
      "NGUYEN, THANH\n",
      "City: FRISCO\n",
      "County: COLLIN\n",
      "Zip Code: 75034\n",
      "\n",
      "\n",
      "License #: 790672\n",
      "\n",
      "Complaint # COS20210004784 Date: 11/16/2021\n",
      "\n",
      "Respondent is assessed an administrative penalty in the amount of $1,875. Respondent failed to clean and sanitize whirlpool foot spas as required at the end of each day, the Department is charging 2 violations; Respondent operated a cosmetology salon without the appropriate license.\n",
      "NGUYEN, DAI T\n",
      "City: HOUSTON\n",
      "County: Harris\n",
      "Zip Code: 77034\n",
      "\n",
      "\n",
      "License #: 765339\n",
      "\n",
      "Complaint # COS20210005027 Date: 11/16/2021\n",
      "\n",
      "Respondent is assessed an administrative penalty in the amount of $1,500. Respondent failed to follow whirlpool foot spas cleaning and sanitization procedures as required; Respondent failed to keep a record of the date and time of each foot spa daily or bi-weekly cleaning and if the foot spa was not used; Respondent failed to store eyelash extensions in a sealed bag or covered container and kept in a clean dry debris-free storage area.\n",
      "NGUYEN, LONG D\n",
      "City: SAN SABA\n",
      "County: SAN SABA\n",
      "Zip Code: 76877\n",
      "\n",
      "\n",
      "License #(s): 760420, 1620583\n",
      "\n",
      "Complaint # COS20210009745 Date: 11/16/2021\n",
      "\n",
      "Respondent is assessed an administrative penalty in the amount of $1,550. Respondent failed to keep a record of the date and time of each foot spa daily or bi-weekly cleaning and if the foot spa was not used, the Department is charging 2 violations; Respondent failed to clean, disinfect, and sterilize manicure and pedicure implements after each use; Respondent failed to clean and disinfect manicure tables prior to use for each client.\n",
      "NGUYEN, LUCIE HUONG\n",
      "City: UVALDE\n",
      "County: UVALDE\n",
      "Zip Code: 78801\n",
      "\n",
      "\n",
      "License #(s): 762626, 1811788\n",
      "\n",
      "Complaint # COS20210011484 Date: 11/4/2021\n",
      "\n",
      "Respondent is assessed an administrative penalty in the amount of $1,375. Respondent failed to keep a record of the date and time of each foot spa daily or bi-weekly cleaning and if the foot spa was not used; Respondent failed to follow whirlpool foot spas cleaning and sanitization procedures as required; Respondent failed to clean, disinfect, and sterilize manicure and pedicure implements after each use; Respondent failed to clean and disinfect manicure tables prior to use for each client; Respondent failed to keep floors, walls, ceilings, shelves, furniture, furnishings, and fixtures clean and in good repair.\n",
      "NGUYEN, CHINH\n",
      "City: TEMPLE\n",
      "County: BELL\n",
      "Zip Code: 76502\n",
      "\n",
      "\n",
      "License #: 777067\n",
      "\n",
      "Complaint # COS20210011721 Date: 11/1/2021\n",
      "\n",
      "Respondent is assessed an administrative penalty in the amount of $4,225. Respondent failed to follow whirlpool foot spas cleaning and sanitization procedures as required bi-weekly; Respondent failed to keep a record of the date and time of each foot spa daily or bi-weekly cleaning and if the foot spa was not used, the Department is charging 4 violations; Respondent failed to clean and disinfect manicure tables prior to use for each client.\n",
      "NGUYEN, JIMMY\n",
      "City: ROWLETT\n",
      "County: DALLAS\n",
      "Zip Code: 75088\n",
      "\n",
      "\n",
      "License #: 796773\n",
      "\n",
      "Complaint # COS20200007069 Date: 10/13/2021\n",
      "\n",
      "Respondent is assessed an administrative penalty in the amount of $2,200. Respondent failed to clean and sanitize whirlpool foot spas as required at the end of each day; Respondent failed to keep a record of the date and time of each foot spa daily or bi-weekly cleaning and if the foot spa was not used.\n",
      "NGUYEN, NAM\n",
      "City: HOUSTON\n",
      "County: HARRIS\n",
      "Zip Code: 77025\n",
      "\n",
      "\n",
      "License #: 688039\n",
      "\n",
      "Complaint # COS20210010530 Date: 10/13/2021\n",
      "\n",
      "Respondents are assessed an administrative penalty in the amount of $1,875. Respondents failed to follow proper sequential cleaning and disinfecting procedures when using portable whirlpool jets; Respondents failed to clean, disinfect, and sterilize manicure and pedicure implements after each use; Respondents failed to maintain powdered alum, styptic powder, or a cyanoacrylate.\n",
      "NGUYEN, DUC\n",
      "City: ABILENE\n",
      "County: TAYLOR\n",
      "Zip Code: 79605\n",
      "\n",
      "\n",
      "License #: 758793\n",
      "\n",
      "Complaint # COS20200007141 Date: 10/12/2021\n",
      "\n",
      "Respondent is assessed an administrative penalty in the amount of $500. Respondent failed to clean and sanitize whirlpool foot spas as required at the end of each day.\n",
      "NGUYEN, THU THAO THI\n",
      "City: SAN ANTONIO\n",
      "County: BEXAR\n",
      "Zip Code: 78244\n",
      "\n",
      "\n",
      "License #(s): 802892, 1286737\n",
      "\n",
      "Complaint # COS20200000839 Date: 10/11/2021\n",
      "\n",
      "Respondent is assessed an administrative penalty in the amount of $3,800. Respondent performed or attempted to perform a practice of cosmetology with an expired license; Respondent failed to keep a record of the date and time of each foot spa daily or bi-weekly cleaning and if the foot spa was not used; Respondent failed to disinfect multi-use equipment, implements, and tools prior to use on each client; Respondent failed to keep floors, walls, ceilings, shelves, furniture, furnishings, and fixtures clean and in good repair.\n"
     ]
    }
   ],
   "source": [
    "table = driver.find_elements(By.TAG_NAME, 'tr')[:10]\n",
    "for row in table:\n",
    " print(row.text)\n",
    "\n",
    "\n"
   ]
  },
  {
   "cell_type": "markdown",
   "metadata": {},
   "source": [
    "The result should look something like this:\n",
    "\n",
    "```\n",
    "Name and Location Order Basis for Order\n",
    "NGUYEN, THANH\n",
    "City: FRISCO\n",
    "County: COLLIN\n",
    "Zip Code: 75034\n",
    "\n",
    "\n",
    "License #: 790672\n",
    "\n",
    "Complaint # COS20210004784 Date: 11/16/2021\n",
    "\n",
    "Respondent is assessed an administrative penalty in the amount of $1,875. Respondent failed to clean and sanitize whirlpool foot spas as required at the end of each day, the Department is charging 2 violations; Respondent operated a cosmetology salon without the appropriate license.\n",
    "NGUYEN, LONG D\n",
    "City: SAN SABA\n",
    "County: SAN SABA\n",
    "Zip Code: 76877\n",
    "```"
   ]
  },
  {
   "cell_type": "markdown",
   "metadata": {},
   "source": [
    "### Loop through each result and print each person's name\n",
    "\n",
    "You'll get an error because the first one doesn't have a name. How do you make that not happen?! If you want to ignore an error, you use code like this:\n",
    "\n",
    "```python\n",
    "try:\n",
    "   # try to do something\n",
    "except:\n",
    "   print(\"It didn't work')\n",
    "```\n",
    "\n",
    "It should help you out. If you don't want to print anything when there's an error, you can type `pass` instead of the `print` statement.\n",
    "\n",
    "**Why doesn't the first one have a name?**\n",
    "\n",
    "Output should look like this:\n",
    "\n",
    "```\n",
    "Doesn't have a name\n",
    "NGUYEN, THANH\n",
    "NGUYEN, LONG D\n",
    "NGUYEN, LUCIE HUONG\n",
    "NGUYEN, CHINH\n",
    "NGUYEN, JIMMY\n",
    "```\n",
    "\n",
    "* *Tip: The name has a class you can use. The class name is reused in a lot of places, but because it's the first one you don't have to worry about that!*\n",
    "* *Tip: Instead of searching across the entire page – `driver.find_element` or `doc.select_one` – you should be doing your searching just inside of each **row** (I used this technique in the beginning of class with BeautifulSoup when we were scraping the books page)* "
   ]
  },
  {
   "cell_type": "code",
   "execution_count": 448,
   "metadata": {},
   "outputs": [
    {
     "name": "stdout",
     "output_type": "stream",
     "text": [
      "NGUYEN, THANH\n",
      "NGUYEN, DAI T\n",
      "NGUYEN, LONG D\n",
      "NGUYEN, LUCIE HUONG\n",
      "NGUYEN, CHINH\n",
      "NGUYEN, JIMMY\n",
      "NGUYEN, NAM\n",
      "NGUYEN, DUC\n",
      "NGUYEN, THU THAO THI\n"
     ]
    }
   ],
   "source": [
    "table = driver.find_elements(By.TAG_NAME, 'tr')[:10]\n",
    "\n",
    "for row in table:\n",
    "    try:\n",
    "        names = row.find_element(By.CLASS_NAME, 'results_text')\n",
    "        print(names.text)\n",
    "    except:\n",
    "        pass\n",
    "    \n",
    "\n",
    "\n",
    "    \n"
   ]
  },
  {
   "cell_type": "markdown",
   "metadata": {},
   "source": [
    "## Loop through each result, printing each violation description (\"Basis for order\")\n",
    "\n",
    "Your results should look something like:\n",
    "\n",
    "```\n",
    "Doesn't have a violation\n",
    "Respondent failed to clean and sanitize whirlpool foot spas as required at the end of each day, the Department is charging 2 violations; Respondent operated a cosmetology salon without the appropriate license.\n",
    "Respondent failed to keep a record of the date and time of each foot spa daily or bi-weekly cleaning and if the foot spa was not used, the Department is charging 2 violations; Respondent failed to clean, disinfect, and sterilize manicure and pedicure implements after each use; Respondent failed to clean and disinfect manicure tables prior to use for each client.\n",
    "...\n",
    "```\n",
    "\n",
    "> - *Tip: You'll get an error even if you're ALMOST right - which row is causing the problem?*\n",
    "> - *Tip: If you're using Selenium by itself, you can get the HTML of something by doing `.get_attribute('innerHTML')` – that way it'll look like BeautifulSoup when you print it. It might help you diagnose your issue!*\n",
    "> - *Tip: Or I guess you could just skip the one with the problem...*"
   ]
  },
  {
   "cell_type": "code",
   "execution_count": 449,
   "metadata": {},
   "outputs": [
    {
     "name": "stdout",
     "output_type": "stream",
     "text": [
      "Respondent failed to clean and sanitize whirlpool foot spas as required at the end of each day, the Department is charging 2 violations; Respondent operated a cosmetology salon without the appropriate license.\n",
      "-----\n",
      "Respondent failed to follow whirlpool foot spas cleaning and sanitization procedures as required; Respondent failed to keep a record of the date and time of each foot spa daily or bi-weekly cleaning and if the foot spa was not used; Respondent failed to store eyelash extensions in a sealed bag or covered container and kept in a clean dry debris-free storage area.\n",
      "-----\n",
      "Respondent failed to keep a record of the date and time of each foot spa daily or bi-weekly cleaning and if the foot spa was not used, the Department is charging 2 violations; Respondent failed to clean, disinfect, and sterilize manicure and pedicure implements after each use; Respondent failed to clean and disinfect manicure tables prior to use for each client.\n",
      "-----\n",
      "Respondent failed to keep a record of the date and time of each foot spa daily or bi-weekly cleaning and if the foot spa was not used; Respondent failed to follow whirlpool foot spas cleaning and sanitization procedures as required; Respondent failed to clean, disinfect, and sterilize manicure and pedicure implements after each use; Respondent failed to clean and disinfect manicure tables prior to use for each client; Respondent failed to keep floors, walls, ceilings, shelves, furniture, furnishings, and fixtures clean and in good repair.\n",
      "-----\n",
      "Respondent failed to follow whirlpool foot spas cleaning and sanitization procedures as required bi-weekly; Respondent failed to keep a record of the date and time of each foot spa daily or bi-weekly cleaning and if the foot spa was not used, the Department is charging 4 violations; Respondent failed to clean and disinfect manicure tables prior to use for each client.\n",
      "-----\n",
      "Respondent failed to clean and sanitize whirlpool foot spas as required at the end of each day; Respondent failed to keep a record of the date and time of each foot spa daily or bi-weekly cleaning and if the foot spa was not used.\n",
      "-----\n",
      "Respondents failed to follow proper sequential cleaning and disinfecting procedures when using portable whirlpool jets; Respondents failed to clean, disinfect, and sterilize manicure and pedicure implements after each use; Respondents failed to maintain powdered alum, styptic powder, or a cyanoacrylate.\n",
      "-----\n",
      "Respondent failed to clean and sanitize whirlpool foot spas as required at the end of each day.\n",
      "-----\n",
      "Respondent performed or attempted to perform a practice of cosmetology with an expired license; Respondent failed to keep a record of the date and time of each foot spa daily or bi-weekly cleaning and if the foot spa was not used; Respondent failed to disinfect multi-use equipment, implements, and tools prior to use on each client; Respondent failed to keep floors, walls, ceilings, shelves, furniture, furnishings, and fixtures clean and in good repair.\n",
      "-----\n"
     ]
    }
   ],
   "source": [
    "table = driver.find_elements(By.TAG_NAME, 'tr')[:10]\n",
    "\n",
    "for row in table:\n",
    "    try:\n",
    "        cell = row.find_elements(By.TAG_NAME, 'td')\n",
    "        print(cell[2].text)\n",
    "        print('-----')\n",
    "    except:\n",
    "        pass\n",
    "    \n",
    "    \n",
    "    \n",
    "#     for a in row.find_elements(By.TAG_NAME, 'td'):\n",
    "#         print(a.text)\n",
    "\n",
    "    \n",
    "    \n",
    "    \n"
   ]
  },
  {
   "cell_type": "markdown",
   "metadata": {},
   "source": [
    "## Loop through each result, printing the complaint number\n",
    "\n",
    "Output should look like this:\n",
    "\n",
    "```\n",
    "Doesn't have a complaint number\n",
    "COS20210004784\n",
    "COS20210009745\n",
    "COS20210011484\n",
    "...\n",
    "```\n",
    "\n",
    "- *Tip: Think about the order of the elements. Can you count from the opposite direction than you normally do?*"
   ]
  },
  {
   "cell_type": "code",
   "execution_count": 470,
   "metadata": {
    "scrolled": true
   },
   "outputs": [
    {
     "name": "stdout",
     "output_type": "stream",
     "text": [
      "COS20200000839\n",
      "COS20200000839\n",
      "COS20200000839\n",
      "COS20200000839\n",
      "COS20200000839\n",
      "COS20200000839\n",
      "COS20200000839\n",
      "COS20200000839\n",
      "COS20200000839\n",
      "COS20200000839\n"
     ]
    }
   ],
   "source": [
    "table = driver.find_elements(By.TAG_NAME, 'tr')[:10]\n",
    "\n",
    "for row in table:\n",
    "        cells = row.find_elements(By.TAG_NAME, 'td')\n",
    "        first_cell = cell[0]\n",
    "        inside_cells = first_cell.find_elements(By.CLASS_NAME, 'results_text')\n",
    "        complaint = inside_cells[-1]\n",
    "        print(complaint.text)\n",
    "\n"
   ]
  },
  {
   "cell_type": "code",
   "execution_count": 475,
   "metadata": {},
   "outputs": [
    {
     "name": "stdout",
     "output_type": "stream",
     "text": [
      "COS20210004784\n",
      "COS20210005027\n",
      "COS20210009745\n",
      "COS20210011484\n",
      "COS20210011721\n",
      "COS20200007069\n",
      "COS20210010530\n",
      "COS20200007141\n",
      "COS20200000839\n"
     ]
    }
   ],
   "source": [
    "table = driver.find_elements(By.TAG_NAME, 'tr')[:10]\n",
    "\n",
    "for row in table:\n",
    "    try:\n",
    "        cells = row.find_elements(By.TAG_NAME, 'td')\n",
    "        for cell in cells:\n",
    "            inside_cells = cell.find_elements(By.CLASS_NAME, 'results_text')\n",
    "            complaint = inside_cells[5]\n",
    "            print(complaint.text)\n",
    "    except:\n",
    "        pass"
   ]
  },
  {
   "cell_type": "markdown",
   "metadata": {},
   "source": [
    "## Saving the results\n",
    "\n",
    "### Loop through each result to create a list of dictionaries\n",
    "\n",
    "Each dictionary must contain\n",
    "\n",
    "- Person's name\n",
    "- Violation description\n",
    "- Violation number\n",
    "- License Numbers\n",
    "- Zip Code\n",
    "- County\n",
    "- City\n",
    "\n",
    "Create a new dictionary for each result (except the header).\n",
    "\n",
    "Based on what you print out, the output might look something like:\n",
    "\n",
    "```\n",
    "This row is broken: Name and Location Order Basis for Order\n",
    "{'name': 'NGUYEN, THANH', 'city': 'FRISCO', 'county': 'COLLIN', 'zip_code': '75034', 'complaint_no': 'COS20210004784', 'license_numbers': '790672', 'complaint': 'Respondent failed to clean and sanitize whirlpool foot spas as required at the end of each day, the Department is charging 2 violations; Respondent operated a cosmetology salon without the appropriate license.'}\n",
    "{'name': 'NGUYEN, LONG D', 'city': 'SAN SABA', 'county': 'SAN SABA', 'zip_code': '76877', 'complaint_no': 'COS20210009745', 'license_numbers': '760420, 1620583', 'complaint': 'Respondent failed to keep a record of the date and time of each foot spa daily or bi-weekly cleaning and if the foot spa was not used, the Department is charging 2 violations; Respondent failed to clean, disinfect, and sterilize manicure and pedicure implements after each use; Respondent failed to clean and disinfect manicure tables prior to use for each client.'}\n",
    "```\n",
    "\n",
    "> *Tip: If you want to ask for the \"next sibling,\" you can't use `find_next_sibling` in Selenium, you need to use `element.find_element_by_xpath(\"following-sibling::div\")` to find the next div, or `element.find_element_by_xpath(\"following-sibling::*\")` to find the next anything."
   ]
  },
  {
   "cell_type": "code",
   "execution_count": 503,
   "metadata": {},
   "outputs": [
    {
     "data": {
      "text/plain": [
       "[{'description': 'Respondent failed to clean and sanitize whirlpool foot spas as required at the end of each day, the Department is charging 2 violations; Respondent operated a cosmetology salon without the appropriate license.',\n",
       "  'name': 'NGUYEN, THANH',\n",
       "  'city': 'FRISCO',\n",
       "  'county': 'COLLIN',\n",
       "  'zip_code': '75034',\n",
       "  'licence': '790672',\n",
       "  'complaint': 'COS20210004784'},\n",
       " {'description': 'Respondent failed to follow whirlpool foot spas cleaning and sanitization procedures as required; Respondent failed to keep a record of the date and time of each foot spa daily or bi-weekly cleaning and if the foot spa was not used; Respondent failed to store eyelash extensions in a sealed bag or covered container and kept in a clean dry debris-free storage area.',\n",
       "  'name': 'NGUYEN, DAI T',\n",
       "  'city': 'HOUSTON',\n",
       "  'county': 'Harris',\n",
       "  'zip_code': '77034',\n",
       "  'licence': '765339',\n",
       "  'complaint': 'COS20210005027'},\n",
       " {'description': 'Respondent failed to keep a record of the date and time of each foot spa daily or bi-weekly cleaning and if the foot spa was not used, the Department is charging 2 violations; Respondent failed to clean, disinfect, and sterilize manicure and pedicure implements after each use; Respondent failed to clean and disinfect manicure tables prior to use for each client.',\n",
       "  'name': 'NGUYEN, LONG D',\n",
       "  'city': 'SAN SABA',\n",
       "  'county': 'SAN SABA',\n",
       "  'zip_code': '76877',\n",
       "  'licence': '760420, 1620583',\n",
       "  'complaint': 'COS20210009745'},\n",
       " {'description': 'Respondent failed to keep a record of the date and time of each foot spa daily or bi-weekly cleaning and if the foot spa was not used; Respondent failed to follow whirlpool foot spas cleaning and sanitization procedures as required; Respondent failed to clean, disinfect, and sterilize manicure and pedicure implements after each use; Respondent failed to clean and disinfect manicure tables prior to use for each client; Respondent failed to keep floors, walls, ceilings, shelves, furniture, furnishings, and fixtures clean and in good repair.',\n",
       "  'name': 'NGUYEN, LUCIE HUONG',\n",
       "  'city': 'UVALDE',\n",
       "  'county': 'UVALDE',\n",
       "  'zip_code': '78801',\n",
       "  'licence': '762626, 1811788',\n",
       "  'complaint': 'COS20210011484'},\n",
       " {'description': 'Respondent failed to follow whirlpool foot spas cleaning and sanitization procedures as required bi-weekly; Respondent failed to keep a record of the date and time of each foot spa daily or bi-weekly cleaning and if the foot spa was not used, the Department is charging 4 violations; Respondent failed to clean and disinfect manicure tables prior to use for each client.',\n",
       "  'name': 'NGUYEN, CHINH',\n",
       "  'city': 'TEMPLE',\n",
       "  'county': 'BELL',\n",
       "  'zip_code': '76502',\n",
       "  'licence': '777067',\n",
       "  'complaint': 'COS20210011721'},\n",
       " {'description': 'Respondent failed to clean and sanitize whirlpool foot spas as required at the end of each day; Respondent failed to keep a record of the date and time of each foot spa daily or bi-weekly cleaning and if the foot spa was not used.',\n",
       "  'name': 'NGUYEN, JIMMY',\n",
       "  'city': 'ROWLETT',\n",
       "  'county': 'DALLAS',\n",
       "  'zip_code': '75088',\n",
       "  'licence': '796773',\n",
       "  'complaint': 'COS20200007069'},\n",
       " {'description': 'Respondents failed to follow proper sequential cleaning and disinfecting procedures when using portable whirlpool jets; Respondents failed to clean, disinfect, and sterilize manicure and pedicure implements after each use; Respondents failed to maintain powdered alum, styptic powder, or a cyanoacrylate.',\n",
       "  'name': 'NGUYEN, NAM',\n",
       "  'city': 'HOUSTON',\n",
       "  'county': 'HARRIS',\n",
       "  'zip_code': '77025',\n",
       "  'licence': '688039',\n",
       "  'complaint': 'COS20210010530'},\n",
       " {'description': 'Respondent failed to clean and sanitize whirlpool foot spas as required at the end of each day.',\n",
       "  'name': 'NGUYEN, DUC',\n",
       "  'city': 'ABILENE',\n",
       "  'county': 'TAYLOR',\n",
       "  'zip_code': '79605',\n",
       "  'licence': '758793',\n",
       "  'complaint': 'COS20200007141'},\n",
       " {'description': 'Respondent performed or attempted to perform a practice of cosmetology with an expired license; Respondent failed to keep a record of the date and time of each foot spa daily or bi-weekly cleaning and if the foot spa was not used; Respondent failed to disinfect multi-use equipment, implements, and tools prior to use on each client; Respondent failed to keep floors, walls, ceilings, shelves, furniture, furnishings, and fixtures clean and in good repair.',\n",
       "  'name': 'NGUYEN, THU THAO THI',\n",
       "  'city': 'SAN ANTONIO',\n",
       "  'county': 'BEXAR',\n",
       "  'zip_code': '78244',\n",
       "  'licence': '802892, 1286737',\n",
       "  'complaint': 'COS20200000839'}]"
      ]
     },
     "execution_count": 503,
     "metadata": {},
     "output_type": "execute_result"
    }
   ],
   "source": [
    "dataset = []\n",
    "table = driver.find_elements(By.TAG_NAME, 'tr')[:10]\n",
    "\n",
    "for row in table:\n",
    "    data = {}\n",
    "    try:\n",
    "        cells = row.find_elements(By.TAG_NAME, 'td')\n",
    "        data['description'] = cells[2].text\n",
    "#         for cell in cells:\n",
    "        inside_cells = row.find_elements(By.CLASS_NAME, 'results_text')\n",
    "        data['name'] = inside_cells[0].text\n",
    "        data['city'] = inside_cells[1].text\n",
    "        data['county'] = inside_cells[2].text\n",
    "        data['zip_code'] = inside_cells[3].text\n",
    "        data['licence'] = inside_cells[4].text\n",
    "        data['complaint'] = inside_cells[5].text\n",
    "        dataset.append(data)\n",
    "    except:\n",
    "        pass\n",
    "\n",
    "dataset"
   ]
  },
  {
   "cell_type": "markdown",
   "metadata": {},
   "source": [
    "### Save that to a CSV named `output.csv`\n",
    "\n",
    "The dataframe should look something like...\n",
    "\n",
    "|index|name|city|county|zip_code|complaint_no|license_numbers|complaint|\n",
    "|---|---|---|---|---|---|---|---|\n",
    "|0|NGUYEN, THANH|FRISCO|COLLIN|75034|COS20210004784|790672|Respondent failed to clean and sanitize whirlp...|\n",
    "|1|NGUYEN, LONG D|SAN SABA|SAN SABA|76877|COS20210009745|760420, 1620583|Respondent failed to keep a record of the date...|\n",
    "\n",
    "\n",
    "- *Tip: If you send a list of dictionaries to `pd.DataFrame(...)`, it will create a dataframe out of that list!*"
   ]
  },
  {
   "cell_type": "code",
   "execution_count": 513,
   "metadata": {},
   "outputs": [],
   "source": [
    "import pandas as pd\n",
    "pd = pd.DataFrame(dataset)\n",
    "pd.to_csv('texas.csv', index=False)"
   ]
  },
  {
   "cell_type": "code",
   "execution_count": null,
   "metadata": {},
   "outputs": [],
   "source": []
  },
  {
   "cell_type": "markdown",
   "metadata": {},
   "source": [
    "### Open the CSV file and examine the first few. Make sure you didn't save an extra weird unnamed column."
   ]
  },
  {
   "cell_type": "code",
   "execution_count": null,
   "metadata": {},
   "outputs": [],
   "source": [
    "#ok"
   ]
  }
 ],
 "metadata": {
  "kernelspec": {
   "display_name": "Python 3 (ipykernel)",
   "language": "python",
   "name": "python3"
  },
  "language_info": {
   "codemirror_mode": {
    "name": "ipython",
    "version": 3
   },
   "file_extension": ".py",
   "mimetype": "text/x-python",
   "name": "python",
   "nbconvert_exporter": "python",
   "pygments_lexer": "ipython3",
   "version": "3.9.7"
  }
 },
 "nbformat": 4,
 "nbformat_minor": 2
}
