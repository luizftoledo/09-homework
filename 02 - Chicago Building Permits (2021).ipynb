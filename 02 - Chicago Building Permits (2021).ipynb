{
 "cells": [
  {
   "cell_type": "markdown",
   "metadata": {},
   "source": [
    "## Logging on\n",
    "\n",
    "Use Selenium to visit https://webapps1.chicago.gov/buildingrecords/ and accept the agreement.\n",
    "\n",
    "> Think about when you use `.find_element...` and when you use `.find_elementSSS...`"
   ]
  },
  {
   "cell_type": "code",
   "execution_count": 57,
   "metadata": {},
   "outputs": [],
   "source": [
    "import pandas as pd\n",
    "import time\n",
    "from selenium import webdriver\n",
    "from selenium.webdriver.common.keys import Keys\n",
    "from selenium.webdriver.common.by import By\n",
    "from selenium.webdriver.support import expected_conditions as EC\n",
    "from selenium.webdriver.support.ui import Select\n",
    "from webdriver_manager.chrome import ChromeDriverManager\n",
    "from selenium.webdriver.support.ui import WebDriverWait\n",
    "from bs4 import BeautifulSoup"
   ]
  },
  {
   "cell_type": "code",
   "execution_count": 58,
   "metadata": {},
   "outputs": [
    {
     "name": "stderr",
     "output_type": "stream",
     "text": [
      "\n",
      "\n",
      "====== WebDriver manager ======\n",
      "Current google-chrome version is 96.0.4664\n",
      "Get LATEST chromedriver version for 96.0.4664 google-chrome\n",
      "Trying to download new driver from https://chromedriver.storage.googleapis.com/96.0.4664.45/chromedriver_mac64.zip\n",
      "Driver has been saved in cache [/Users/luizfernandotoledo/.wdm/drivers/chromedriver/mac64/96.0.4664.45]\n",
      "/var/folders/dj/5c61qy0d0b9gcj0yrt1jd2300000gn/T/ipykernel_73647/3495999009.py:1: DeprecationWarning: executable_path has been deprecated, please pass in a Service object\n",
      "  driver = webdriver.Chrome(ChromeDriverManager().install())\n"
     ]
    }
   ],
   "source": [
    "driver = webdriver.Chrome(ChromeDriverManager().install())\n",
    "driver.get(\"https://webapps1.chicago.gov/buildingrecords/\")"
   ]
  },
  {
   "cell_type": "code",
   "execution_count": 59,
   "metadata": {},
   "outputs": [],
   "source": [
    "driver.find_element(By.ID, 'rbnAgreement1').click()\n",
    "driver.find_element(By.ID, 'submit').click()"
   ]
  },
  {
   "cell_type": "code",
   "execution_count": null,
   "metadata": {},
   "outputs": [],
   "source": []
  },
  {
   "cell_type": "code",
   "execution_count": null,
   "metadata": {},
   "outputs": [],
   "source": []
  },
  {
   "cell_type": "code",
   "execution_count": null,
   "metadata": {},
   "outputs": [],
   "source": []
  },
  {
   "cell_type": "markdown",
   "metadata": {},
   "source": [
    "## Searching\n",
    "\n",
    "Search for **400 E 41ST ST**."
   ]
  },
  {
   "cell_type": "code",
   "execution_count": 60,
   "metadata": {},
   "outputs": [],
   "source": [
    "driver.find_element(By.ID, 'fullAddress').send_keys('400 E 41ST ST')\n",
    "driver.find_element(By.ID, 'submit').click()\n"
   ]
  },
  {
   "cell_type": "code",
   "execution_count": null,
   "metadata": {},
   "outputs": [],
   "source": []
  },
  {
   "cell_type": "markdown",
   "metadata": {},
   "source": [
    "## Saving tables with pandas\n",
    "\n",
    "Use pandas to save a CSV of all **permits** to `Permits - 400 E 41ST ST.csv`. Note that there are **different sections of the page**, not just one long permits table.\n",
    "\n",
    "> - *Tip: When using `.read_html`, try using `flavor='lxml'` and comparing the results to `flavor='html5lib'`. Which works better?*\n",
    "> - *Tip: You might need to install `html5lib` using `pip`. If so, you'll need to restart the notebook using **Kernel > Restart** before it will work.*"
   ]
  },
  {
   "cell_type": "code",
   "execution_count": 93,
   "metadata": {},
   "outputs": [
    {
     "data": {
      "text/plain": [
       "[{'permit': '100845718',\n",
       "  'date_issued': '10/11/2019',\n",
       "  'description_of_work': 'ERECT TWO SCAFFOLDS FROM 10/14/2019 TO 10/14/2020.'},\n",
       " {'permit': '100778302',\n",
       "  'date_issued': '08/17/2018',\n",
       "  'description_of_work': \"PERMIT EXPIRES ON 10/17/2018 Erection Starts: 8/24/2018, Erection Ends: 8/25/2018. TENT- 1 DAY EVENT 8/25/18 ERECT ONE (1) 40'X60' POLE TENT SETUP 8/24/18- REMOVE 8/25/18 ASSEMBLY **** CONDITIONAL APPROVAL **** SUBJECT TO FIELD INSPECTION **** AOR CERTIFICATE OF INSPECTION REQUIRED ****\"},\n",
       " {'permit': '100721255',\n",
       "  'date_issued': '08/24/2017',\n",
       "  'description_of_work': 'PERMIT EXPIRES ON 10/24/2017 ERECTION STARTS: 8/25/2017, ERECTION ENDS: 8/26/2017. SELF CERTIFICATION. REINSTATEMENT OF 2015 PERMIT 100610771 FOR THE PAUL G STEWART CENTER EVENT. SAME 40X60 CANOPY. AAA RENTAL SYSTEM.** CONDITIONAL APPROVAL **SUBJECT TO FIELD INSPECTION * AOR CERTIFICATION OF INSPECTION REQUIRED.'},\n",
       " {'permit': '100693399',\n",
       "  'date_issued': '03/03/2017',\n",
       "  'description_of_work': 'INSTALLATION OF LOW VOLTAGE BURGLAR ALARM INTERIOR WORK ONLY # 573-22178'},\n",
       " {'permit': '100665436',\n",
       "  'date_issued': '08/24/2016',\n",
       "  'description_of_work': \"PERMIT EXPIRES ON 10/24/2016 ERECTION STARTS: 8/26/2016, ERECTION ENDS: 8/28/2016. REINSTATEMENT #1 OF TENT PERMIT 100610771 - PEOPLE'S CONSUMER / STEWART CENTER FAMILY DAY TENT. 1-40X60 TENT. AAA RENTAL SYSTEM. **SELF CERTIFIED TENT PERMIT ** CONDITIONAL APPROVAL ** SUBJECT TO FIELD INSPECTION ** AOR CERTIFICATION OF INSPECTION REQUIRED.\"},\n",
       " {'permit': '100610771',\n",
       "  'date_issued': '08/28/2015',\n",
       "  'description_of_work': 'PERMIT EXPIRES ON 10/28/2015 ERECTION STARTS: 8/28/2015, ERECTION ENDS: 8/30/2015. TEMPORARY CANOPY FOR THE PAUL G STEWART EVENT ON AUG. 29, 2015. 1-40X60 CANOPY. AAA RENTAL SYSTEM.** SELF CERTIFIED CANOPY PERMIT** CONDITIONAL APPROVAL SUBJECT TO FIELD INSPECTION** AOR CERTIFICATION OF INSPECTION REQUIRED'},\n",
       " {'permit': '100581991',\n",
       "  'date_issued': '02/18/2015',\n",
       "  'description_of_work': 'TRACE AND REPAIR BROKEN UNDERGROUND FEED TO EXISTING LIGHTPOLE.'},\n",
       " {'permit': '100479194',\n",
       "  'date_issued': '04/16/2013',\n",
       "  'description_of_work': 'INTERNALLY LIT SIGN CABINET ON SOUTH ELEVATION'},\n",
       " {'permit': '100385721',\n",
       "  'date_issued': '03/25/2011',\n",
       "  'description_of_work': 'RPACE CONCRETE SLAB WITH NEW AT GROUNGD FLOOR LEVEL (APPROX. 265 SF)'},\n",
       " {'permit': '100267298',\n",
       "  'date_issued': '12/04/2008',\n",
       "  'description_of_work': 'INTERIOR ALTERATIONS TO MEDICAL OFFICE SUITE 103 (TOWER 2) PER PLANS. -CONDITIONAL PERMIT, SUBJECT TO FIELD VERIFICATION.'},\n",
       " {'permit': '100218969',\n",
       "  'date_issued': '01/08/2008',\n",
       "  'description_of_work': 'Revision to Permit. Removing walls at elevator lobby areas in Tower II.'},\n",
       " {'permit': '100195892',\n",
       "  'date_issued': '11/01/2007',\n",
       "  'description_of_work': 'INTERIOR ALTERATIONS TO 1ST FLOOR TENANT SPACES OF EXISTING APARTMENT BUILDING PER PLANS'},\n",
       " {'permit': '100178678',\n",
       "  'date_issued': '05/16/2007',\n",
       "  'description_of_work': 'WIRE ALL LOW VOLTAGE TEMPERATURE CONTROLS ALL UNITS ALL FLRS.'},\n",
       " {'permit': '100154767',\n",
       "  'date_issued': '12/21/2006',\n",
       "  'description_of_work': 'MODERNIZE FIVE (5) PASSENGER ELEVATORS AS PER SCOPE OF WORK'},\n",
       " {'permit': '100153183',\n",
       "  'date_issued': '12/12/2006',\n",
       "  'description_of_work': 'Renovation/Alterations to 19-story Tower #2.'},\n",
       " {'permit': '100153182',\n",
       "  'date_issued': '12/12/2006',\n",
       "  'description_of_work': 'Renovation/Alterations to 27-story Tower #1.'},\n",
       " {'permit': 'B20022113',\n",
       "  'date_issued': '04/25/2001',\n",
       "  'description_of_work': \"1N REPAIR,PATCH, 908' LG CON TERRACE WALL ( 3 FT HIGH ), REMOUNT 142 RAILING POST AS PER PLANS\"},\n",
       " {'permit': 'EL1566941',\n",
       "  'date_issued': '04/27/2000',\n",
       "  'description_of_work': 'INSTALL 3 HPS WALL FIXTURE ON BUILDING'},\n",
       " {'permit': 'B97033015',\n",
       "  'date_issued': '05/14/1997',\n",
       "  'description_of_work': 'THREE (3) PASSENGER ELEVATORS ADAMS DOOR RESTRICTORS'},\n",
       " {'permit': 'EL9445368',\n",
       "  'date_issued': '02/14/1994',\n",
       "  'description_of_work': \"ADD 2-ADD'TL METER SOCKETS & 2-BRKR PNLS\"},\n",
       " {'permit': 'EL9443103',\n",
       "  'date_issued': '02/08/1994',\n",
       "  'description_of_work': 'INSTALL PHONE SYSTEM (MERLIN)'},\n",
       " {'permit': 'EL8874529',\n",
       "  'date_issued': '07/22/1992',\n",
       "  'description_of_work': 'INSTALL LOW VOLTAGE SECURITY SYSTEM'},\n",
       " {'permit': 'EL8770080',\n",
       "  'date_issued': '12/17/1991',\n",
       "  'description_of_work': '100A SERVICE, 2-METER SOCKETS'},\n",
       " {'permit': 'EL7634958',\n",
       "  'date_issued': '02/19/1988',\n",
       "  'description_of_work': '6-15 AMP 2-WIRE CKTS AND SIX (6) FIXTURS'},\n",
       " {'permit': 'EL7393792',\n",
       "  'date_issued': '05/05/1987',\n",
       "  'description_of_work': 'LOW VOLTAGE PHONE SYSTEM EQUITY 111'},\n",
       " {'permit': 'ES3148854',\n",
       "  'date_issued': '10/29/1984',\n",
       "  'description_of_work': ''},\n",
       " {'permit': 'EL6455110',\n",
       "  'date_issued': '07/26/1984',\n",
       "  'description_of_work': 'INSTALL 278 OUTLETS ON EXIST CIRC'},\n",
       " {'permit': 'EL6345593',\n",
       "  'date_issued': '04/05/1984',\n",
       "  'description_of_work': 'STANLEY MAGIC DOOR EQUIPT INSTALLATION'},\n",
       " {'permit': 'EL6242147',\n",
       "  'date_issued': '11/22/1983',\n",
       "  'description_of_work': '2000A SERV, 400A SERV, 200A SERV,'},\n",
       " {'permit': 'EL6196217',\n",
       "  'date_issued': '10/03/1983',\n",
       "  'description_of_work': '400A SERVICE'},\n",
       " {'permit': 'EL5912649',\n",
       "  'date_issued': '11/03/1982',\n",
       "  'description_of_work': 'ADD FEE TO PERMIT #5764111'},\n",
       " {'permit': 'EL5764118',\n",
       "  'date_issued': '05/24/1982',\n",
       "  'description_of_work': '400A SERVICE'}]"
      ]
     },
     "execution_count": 93,
     "metadata": {},
     "output_type": "execute_result"
    }
   ],
   "source": [
    "database = []\n",
    "table = driver.find_element(By.TAG_NAME, 'tbody')\n",
    "line = table.find_elements(By.TAG_NAME, 'tr')\n",
    "for cell in line:\n",
    "    data = {}\n",
    "    element = cell.find_elements(By.TAG_NAME, 'td')\n",
    "    data['permit'] = (element[0].text)\n",
    "    data['date_issued'] = (element[1].text)\n",
    "    data['description_of_work'] = (element[2].text)\n",
    "    database.append(data)\n",
    "    \n",
    "database"
   ]
  },
  {
   "cell_type": "code",
   "execution_count": 99,
   "metadata": {},
   "outputs": [],
   "source": [
    "df = pd.DataFrame(database)"
   ]
  },
  {
   "cell_type": "code",
   "execution_count": 100,
   "metadata": {},
   "outputs": [],
   "source": [
    "df.to_csv('permits_400_e_41st_st.csv', index=False)"
   ]
  },
  {
   "cell_type": "markdown",
   "metadata": {},
   "source": [
    "## Saving tables the long way\n",
    "\n",
    "Save a CSV of all DOB inspections to `Inspections - 400 E 41ST ST.csv`.\n",
    "\n",
    "This is more complicated than the last one becuse **we also need to save the URL to the inspection** (see how the inspection number is a link?). As a result, you won't be able to use pandas! Instead, you'll need to use a loop and create a list of dictionaries.\n",
    "\n",
    "You can use Selenium or you can feed the source to BeautifulSoup. You should have approximately 160 rows.\n",
    "\n",
    "You'll probably need to find the table first, then the rows inside, then the cells inside of each row. You'll probably use lots of list indexing. I might recommend XPath for finding the table.\n",
    "\n",
    "*Tip: If you get a \"list index out of range\" error, it's probably due to an issue involving `thead` vs `tbody` elements. What are they? What are they for? What's in them? There are a few ways to troubleshoot it.*"
   ]
  },
  {
   "cell_type": "code",
   "execution_count": 109,
   "metadata": {},
   "outputs": [],
   "source": [
    "database2 = []\n",
    "table = driver.find_element(By.XPATH, '/html/body/div/div[4]/div[10]/table/tbody')\n",
    "line = table.find_elements(By.TAG_NAME, 'tr')\n",
    "for cell in line:\n",
    "    data = {}\n",
    "    element = cell.find_elements(By.TAG_NAME, 'td')\n",
    "    data['insp'] = (element[0].text)\n",
    "    data['inspection_date'] = (element[1].text)\n",
    "    data['status'] = (element[2].text)\n",
    "    data['type_description'] = (element[3].text)\n",
    "    database2.append(data)\n",
    "    \n",
    "\n"
   ]
  },
  {
   "cell_type": "code",
   "execution_count": 110,
   "metadata": {},
   "outputs": [],
   "source": [
    "df = pd.DataFrame(database2)"
   ]
  },
  {
   "cell_type": "code",
   "execution_count": 111,
   "metadata": {},
   "outputs": [],
   "source": [
    "df.to_csv('inspections_400_e_41st_st.csv', index=False)"
   ]
  },
  {
   "cell_type": "code",
   "execution_count": null,
   "metadata": {},
   "outputs": [],
   "source": []
  },
  {
   "cell_type": "markdown",
   "metadata": {},
   "source": [
    "### Bonus preview of Wednesday's content\n",
    "\n",
    "**You prrrrrobably shouldn't do this one unless you want a real challenge.**\n",
    "\n",
    "If you click the inspection number, it'll open up a new window that shows you details of the violations from that visit. Count the number of violations for each visit and save it in a new column called **num_violations**.\n",
    "\n",
    "Save this file as `Inspections - 400 E 41ST ST - with counts.csv`.\n",
    "\n",
    "Since clicking the link opens in a new window, we have to say \"Hey Selenium, pay attention to that new window!\" We do that with `driver.switch_to.window(driver.window_handles[-1])` (each window gets a `window_handle`, and we're just asking the driver to switch to the last one.). A rough sketch of what your code will look like is here:\n",
    "\n",
    "```python\n",
    "# Click the link that opens the new window\n",
    "\n",
    "# Switch to the new window/tab\n",
    "driver.switch_to.window(driver.window_handles[-1])\n",
    "\n",
    "# Do your scraping in here\n",
    "\n",
    "# Close the new window/tab\n",
    "driver.close()\n",
    "\n",
    "# Switch back to the original window/tab\n",
    "driver.switch_to.window(driver.window_handles[0])\n",
    "```\n",
    "\n",
    "You'll want to play around with them individually before you try it with the whole set - the ones that pass are very different pages than the ones with violations! There are a few ways to get the number of violations, some easier than others."
   ]
  },
  {
   "cell_type": "code",
   "execution_count": null,
   "metadata": {},
   "outputs": [],
   "source": []
  },
  {
   "cell_type": "code",
   "execution_count": null,
   "metadata": {},
   "outputs": [],
   "source": []
  },
  {
   "cell_type": "code",
   "execution_count": null,
   "metadata": {},
   "outputs": [],
   "source": []
  },
  {
   "cell_type": "code",
   "execution_count": null,
   "metadata": {},
   "outputs": [],
   "source": []
  },
  {
   "cell_type": "code",
   "execution_count": null,
   "metadata": {},
   "outputs": [],
   "source": []
  },
  {
   "cell_type": "code",
   "execution_count": null,
   "metadata": {},
   "outputs": [],
   "source": []
  },
  {
   "cell_type": "code",
   "execution_count": null,
   "metadata": {},
   "outputs": [],
   "source": []
  },
  {
   "cell_type": "code",
   "execution_count": null,
   "metadata": {},
   "outputs": [],
   "source": []
  }
 ],
 "metadata": {
  "kernelspec": {
   "display_name": "Python 3 (ipykernel)",
   "language": "python",
   "name": "python3"
  },
  "language_info": {
   "codemirror_mode": {
    "name": "ipython",
    "version": 3
   },
   "file_extension": ".py",
   "mimetype": "text/x-python",
   "name": "python",
   "nbconvert_exporter": "python",
   "pygments_lexer": "ipython3",
   "version": "3.9.7"
  }
 },
 "nbformat": 4,
 "nbformat_minor": 4
}
